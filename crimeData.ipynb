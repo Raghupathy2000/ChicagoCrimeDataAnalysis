{
 "cells": [
  {
   "cell_type": "code",
   "execution_count": 1,
   "metadata": {},
   "outputs": [],
   "source": [
    "# Importing the important libraries\n",
    "import pandas as pd\n",
    "import numpy as np\n",
    "import matplotlib.pyplot as plt"
   ]
  },
  {
   "cell_type": "code",
   "execution_count": 9,
   "metadata": {},
   "outputs": [],
   "source": [
    "# Importing the data\n",
    "df = pd.read_csv(\"Crime_Data.csv\")\n"
   ]
  },
  {
   "cell_type": "code",
   "execution_count": 15,
   "metadata": {},
   "outputs": [
    {
     "data": {
      "text/html": [
       "<div>\n",
       "<style scoped>\n",
       "    .dataframe tbody tr th:only-of-type {\n",
       "        vertical-align: middle;\n",
       "    }\n",
       "\n",
       "    .dataframe tbody tr th {\n",
       "        vertical-align: top;\n",
       "    }\n",
       "\n",
       "    .dataframe thead th {\n",
       "        text-align: right;\n",
       "    }\n",
       "</style>\n",
       "<table border=\"1\" class=\"dataframe\">\n",
       "  <thead>\n",
       "    <tr style=\"text-align: right;\">\n",
       "      <th></th>\n",
       "      <th>ID</th>\n",
       "      <th>Case Number</th>\n",
       "      <th>Date</th>\n",
       "      <th>Block</th>\n",
       "      <th>IUCR</th>\n",
       "      <th>Primary Type</th>\n",
       "      <th>Description</th>\n",
       "      <th>Location Description</th>\n",
       "      <th>Arrest</th>\n",
       "      <th>Domestic</th>\n",
       "      <th>...</th>\n",
       "      <th>Ward</th>\n",
       "      <th>Community Area</th>\n",
       "      <th>FBI Code</th>\n",
       "      <th>X Coordinate</th>\n",
       "      <th>Y Coordinate</th>\n",
       "      <th>Year</th>\n",
       "      <th>Updated On</th>\n",
       "      <th>Latitude</th>\n",
       "      <th>Longitude</th>\n",
       "      <th>Location</th>\n",
       "    </tr>\n",
       "  </thead>\n",
       "  <tbody>\n",
       "    <tr>\n",
       "      <th>0</th>\n",
       "      <td>5741943</td>\n",
       "      <td>HN549294</td>\n",
       "      <td>2007-08-25 09:22:00</td>\n",
       "      <td>074XX N ROGERS AVE</td>\n",
       "      <td>560</td>\n",
       "      <td>ASSAULT</td>\n",
       "      <td>SIMPLE</td>\n",
       "      <td>OTHER</td>\n",
       "      <td>False</td>\n",
       "      <td>False</td>\n",
       "      <td>...</td>\n",
       "      <td>49.0</td>\n",
       "      <td>1.0</td>\n",
       "      <td>08A</td>\n",
       "      <td>NaN</td>\n",
       "      <td>NaN</td>\n",
       "      <td>2007</td>\n",
       "      <td>8/17/2015 15:03</td>\n",
       "      <td>NaN</td>\n",
       "      <td>NaN</td>\n",
       "      <td>NaN</td>\n",
       "    </tr>\n",
       "    <tr>\n",
       "      <th>1</th>\n",
       "      <td>25953</td>\n",
       "      <td>JE240540</td>\n",
       "      <td>2021-05-24 15:06:00</td>\n",
       "      <td>020XX N LARAMIE AVE</td>\n",
       "      <td>110</td>\n",
       "      <td>HOMICIDE</td>\n",
       "      <td>FIRST DEGREE MURDER</td>\n",
       "      <td>STREET</td>\n",
       "      <td>True</td>\n",
       "      <td>False</td>\n",
       "      <td>...</td>\n",
       "      <td>36.0</td>\n",
       "      <td>19.0</td>\n",
       "      <td>01A</td>\n",
       "      <td>1141387.0</td>\n",
       "      <td>1913179.0</td>\n",
       "      <td>2021</td>\n",
       "      <td>11/18/2023 15:39</td>\n",
       "      <td>41.917838</td>\n",
       "      <td>-87.755969</td>\n",
       "      <td>(41.917838056, -87.755968972)</td>\n",
       "    </tr>\n",
       "    <tr>\n",
       "      <th>2</th>\n",
       "      <td>26038</td>\n",
       "      <td>JE279849</td>\n",
       "      <td>2021-06-26 09:24:00</td>\n",
       "      <td>062XX N MC CORMICK RD</td>\n",
       "      <td>110</td>\n",
       "      <td>HOMICIDE</td>\n",
       "      <td>FIRST DEGREE MURDER</td>\n",
       "      <td>PARKING LOT</td>\n",
       "      <td>True</td>\n",
       "      <td>False</td>\n",
       "      <td>...</td>\n",
       "      <td>50.0</td>\n",
       "      <td>13.0</td>\n",
       "      <td>01A</td>\n",
       "      <td>1152781.0</td>\n",
       "      <td>1941458.0</td>\n",
       "      <td>2021</td>\n",
       "      <td>11/18/2023 15:39</td>\n",
       "      <td>41.995219</td>\n",
       "      <td>-87.713355</td>\n",
       "      <td>(41.995219444, -87.713354912)</td>\n",
       "    </tr>\n",
       "    <tr>\n",
       "      <th>3</th>\n",
       "      <td>13279676</td>\n",
       "      <td>JG507211</td>\n",
       "      <td>2023-11-09 07:30:00</td>\n",
       "      <td>019XX W BYRON ST</td>\n",
       "      <td>620</td>\n",
       "      <td>BURGLARY</td>\n",
       "      <td>UNLAWFUL ENTRY</td>\n",
       "      <td>APARTMENT</td>\n",
       "      <td>False</td>\n",
       "      <td>False</td>\n",
       "      <td>...</td>\n",
       "      <td>47.0</td>\n",
       "      <td>5.0</td>\n",
       "      <td>5</td>\n",
       "      <td>1162518.0</td>\n",
       "      <td>1925906.0</td>\n",
       "      <td>2023</td>\n",
       "      <td>11/18/2023 15:39</td>\n",
       "      <td>41.952345</td>\n",
       "      <td>-87.677975</td>\n",
       "      <td>(41.952345086, -87.677975059)</td>\n",
       "    </tr>\n",
       "    <tr>\n",
       "      <th>4</th>\n",
       "      <td>13274752</td>\n",
       "      <td>JG501049</td>\n",
       "      <td>2023-11-12 07:59:00</td>\n",
       "      <td>086XX S COTTAGE GROVE AVE</td>\n",
       "      <td>454</td>\n",
       "      <td>BATTERY</td>\n",
       "      <td>AGGRAVATED P.O. - HANDS, FISTS, FEET, NO / MIN...</td>\n",
       "      <td>SMALL RETAIL STORE</td>\n",
       "      <td>True</td>\n",
       "      <td>False</td>\n",
       "      <td>...</td>\n",
       "      <td>6.0</td>\n",
       "      <td>44.0</td>\n",
       "      <td>08B</td>\n",
       "      <td>1183071.0</td>\n",
       "      <td>1847869.0</td>\n",
       "      <td>2023</td>\n",
       "      <td>12/9/2023 15:41</td>\n",
       "      <td>41.737751</td>\n",
       "      <td>-87.604856</td>\n",
       "      <td>(41.737750767, -87.604855911)</td>\n",
       "    </tr>\n",
       "  </tbody>\n",
       "</table>\n",
       "<p>5 rows × 22 columns</p>\n",
       "</div>"
      ],
      "text/plain": [
       "         ID Case Number                Date                      Block IUCR  \\\n",
       "0   5741943    HN549294 2007-08-25 09:22:00         074XX N ROGERS AVE  560   \n",
       "1     25953    JE240540 2021-05-24 15:06:00        020XX N LARAMIE AVE  110   \n",
       "2     26038    JE279849 2021-06-26 09:24:00      062XX N MC CORMICK RD  110   \n",
       "3  13279676    JG507211 2023-11-09 07:30:00           019XX W BYRON ST  620   \n",
       "4  13274752    JG501049 2023-11-12 07:59:00  086XX S COTTAGE GROVE AVE  454   \n",
       "\n",
       "  Primary Type                                        Description  \\\n",
       "0      ASSAULT                                             SIMPLE   \n",
       "1     HOMICIDE                                FIRST DEGREE MURDER   \n",
       "2     HOMICIDE                                FIRST DEGREE MURDER   \n",
       "3     BURGLARY                                     UNLAWFUL ENTRY   \n",
       "4      BATTERY  AGGRAVATED P.O. - HANDS, FISTS, FEET, NO / MIN...   \n",
       "\n",
       "  Location Description  Arrest  Domestic  ...  Ward  Community Area  FBI Code  \\\n",
       "0                OTHER   False     False  ...  49.0             1.0       08A   \n",
       "1               STREET    True     False  ...  36.0            19.0       01A   \n",
       "2          PARKING LOT    True     False  ...  50.0            13.0       01A   \n",
       "3            APARTMENT   False     False  ...  47.0             5.0         5   \n",
       "4   SMALL RETAIL STORE    True     False  ...   6.0            44.0       08B   \n",
       "\n",
       "   X Coordinate Y Coordinate  Year        Updated On   Latitude  Longitude  \\\n",
       "0           NaN          NaN  2007   8/17/2015 15:03        NaN        NaN   \n",
       "1     1141387.0    1913179.0  2021  11/18/2023 15:39  41.917838 -87.755969   \n",
       "2     1152781.0    1941458.0  2021  11/18/2023 15:39  41.995219 -87.713355   \n",
       "3     1162518.0    1925906.0  2023  11/18/2023 15:39  41.952345 -87.677975   \n",
       "4     1183071.0    1847869.0  2023   12/9/2023 15:41  41.737751 -87.604856   \n",
       "\n",
       "                        Location  \n",
       "0                            NaN  \n",
       "1  (41.917838056, -87.755968972)  \n",
       "2  (41.995219444, -87.713354912)  \n",
       "3  (41.952345086, -87.677975059)  \n",
       "4  (41.737750767, -87.604855911)  \n",
       "\n",
       "[5 rows x 22 columns]"
      ]
     },
     "execution_count": 15,
     "metadata": {},
     "output_type": "execute_result"
    }
   ],
   "source": [
    "df.head()"
   ]
  },
  {
   "cell_type": "code",
   "execution_count": 29,
   "metadata": {},
   "outputs": [
    {
     "name": "stdout",
     "output_type": "stream",
     "text": [
      "<class 'pandas.core.frame.DataFrame'>\n",
      "RangeIndex: 549999 entries, 0 to 549998\n",
      "Data columns (total 22 columns):\n",
      " #   Column                Non-Null Count   Dtype         \n",
      "---  ------                --------------   -----         \n",
      " 0   ID                    549999 non-null  int64         \n",
      " 1   Case Number           549999 non-null  object        \n",
      " 2   Date                  549999 non-null  datetime64[ns]\n",
      " 3   Block                 549999 non-null  object        \n",
      " 4   IUCR                  549999 non-null  object        \n",
      " 5   Primary Type          549999 non-null  object        \n",
      " 6   Description           549999 non-null  object        \n",
      " 7   Location Description  549999 non-null  object        \n",
      " 8   Arrest                549999 non-null  bool          \n",
      " 9   Domestic              549999 non-null  bool          \n",
      " 10  Beat                  549999 non-null  int64         \n",
      " 11  District              549999 non-null  int64         \n",
      " 12  Ward                  213674 non-null  float64       \n",
      " 13  Community Area        215093 non-null  float64       \n",
      " 14  FBI Code              549999 non-null  object        \n",
      " 15  X Coordinate          543087 non-null  float64       \n",
      " 16  Y Coordinate          543087 non-null  float64       \n",
      " 17  Year                  549999 non-null  int64         \n",
      " 18  Updated On            549999 non-null  object        \n",
      " 19  Latitude              549999 non-null  float64       \n",
      " 20  Longitude             549999 non-null  float64       \n",
      " 21  Location              543087 non-null  object        \n",
      "dtypes: bool(2), datetime64[ns](1), float64(6), int64(4), object(9)\n",
      "memory usage: 85.0+ MB\n"
     ]
    }
   ],
   "source": [
    "# Checking whether their is any null value\n",
    "\n",
    "df.info()"
   ]
  },
  {
   "cell_type": "code",
   "execution_count": 5,
   "metadata": {},
   "outputs": [
    {
     "data": {
      "text/plain": [
       "(549999, 22)"
      ]
     },
     "execution_count": 5,
     "metadata": {},
     "output_type": "execute_result"
    }
   ],
   "source": [
    "'''\n",
    "Things to Handle\n",
    "================\n",
    "Date format need to be changed from Object to Date and time\n",
    "Replace the NaN value with mean for latitude and logitude\n",
    "Replate NaN in Location Description with OTHER\n",
    "'''"
   ]
  },
  {
   "cell_type": "code",
   "execution_count": 27,
   "metadata": {},
   "outputs": [
    {
     "data": {
      "text/plain": [
       "210"
      ]
     },
     "execution_count": 27,
     "metadata": {},
     "output_type": "execute_result"
    }
   ],
   "source": [
    "df['Location Description'].nunique()"
   ]
  },
  {
   "cell_type": "code",
   "execution_count": 6,
   "metadata": {},
   "outputs": [
    {
     "data": {
      "text/html": [
       "<div>\n",
       "<style scoped>\n",
       "    .dataframe tbody tr th:only-of-type {\n",
       "        vertical-align: middle;\n",
       "    }\n",
       "\n",
       "    .dataframe tbody tr th {\n",
       "        vertical-align: top;\n",
       "    }\n",
       "\n",
       "    .dataframe thead th {\n",
       "        text-align: right;\n",
       "    }\n",
       "</style>\n",
       "<table border=\"1\" class=\"dataframe\">\n",
       "  <thead>\n",
       "    <tr style=\"text-align: right;\">\n",
       "      <th></th>\n",
       "      <th>ID</th>\n",
       "      <th>Case Number</th>\n",
       "      <th>Date</th>\n",
       "      <th>Block</th>\n",
       "      <th>IUCR</th>\n",
       "      <th>Primary Type</th>\n",
       "      <th>Description</th>\n",
       "      <th>Location Description</th>\n",
       "      <th>Arrest</th>\n",
       "      <th>Domestic</th>\n",
       "      <th>...</th>\n",
       "      <th>Ward</th>\n",
       "      <th>Community Area</th>\n",
       "      <th>FBI Code</th>\n",
       "      <th>X Coordinate</th>\n",
       "      <th>Y Coordinate</th>\n",
       "      <th>Year</th>\n",
       "      <th>Updated On</th>\n",
       "      <th>Latitude</th>\n",
       "      <th>Longitude</th>\n",
       "      <th>Location</th>\n",
       "    </tr>\n",
       "  </thead>\n",
       "  <tbody>\n",
       "  </tbody>\n",
       "</table>\n",
       "<p>0 rows × 22 columns</p>\n",
       "</div>"
      ],
      "text/plain": [
       "Empty DataFrame\n",
       "Columns: [ID, Case Number, Date, Block, IUCR, Primary Type, Description, Location Description, Arrest, Domestic, Beat, District, Ward, Community Area, FBI Code, X Coordinate, Y Coordinate, Year, Updated On, Latitude, Longitude, Location]\n",
       "Index: []\n",
       "\n",
       "[0 rows x 22 columns]"
      ]
     },
     "execution_count": 6,
     "metadata": {},
     "output_type": "execute_result"
    }
   ],
   "source": [
    "# Checking their is any duplicated rows\n",
    "duplicatedRow = df[df.duplicated()]\n",
    "duplicatedRow.head()"
   ]
  },
  {
   "cell_type": "code",
   "execution_count": 13,
   "metadata": {},
   "outputs": [
    {
     "name": "stderr",
     "output_type": "stream",
     "text": [
      "C:\\Users\\Ragupathy\\AppData\\Local\\Temp\\ipykernel_18848\\635907845.py:2: UserWarning: The argument 'infer_datetime_format' is deprecated and will be removed in a future version. A strict version of it is now the default, see https://pandas.pydata.org/pdeps/0004-consistent-to-datetime-parsing.html. You can safely remove this argument.\n",
      "  df['Date'] = pd.to_datetime(df['Date'], infer_datetime_format=True, errors='coerce')\n"
     ]
    }
   ],
   "source": [
    "# Converting Date to DateTime Format\n",
    "df['Date'] = pd.to_datetime(df['Date'], infer_datetime_format=True, errors='coerce')\n"
   ]
  },
  {
   "cell_type": "code",
   "execution_count": null,
   "metadata": {},
   "outputs": [],
   "source": [
    "# Replacing the NaN data with Mean value\n",
    "\n",
    "df['Latitude'] = df['Latitude'].fillna(df['Latitude'].mean())\n",
    "df['Longitude'] = df['Longitude'].fillna(df['Longitude'].mean())\n"
   ]
  },
  {
   "cell_type": "code",
   "execution_count": 28,
   "metadata": {},
   "outputs": [],
   "source": [
    "# Replacing the Nan Location Description to OTHER\n",
    "df['Location Description'] = df['Location Description'].fillna('OTHER')"
   ]
  },
  {
   "cell_type": "code",
   "execution_count": 31,
   "metadata": {},
   "outputs": [],
   "source": [
    "final_df = df[['ID', 'Date','Year', 'Primary Type', 'Description','District',\n",
    "                 'Location Description', 'Arrest', 'Domestic', 'Latitude', 'Longitude']]"
   ]
  },
  {
   "cell_type": "code",
   "execution_count": 32,
   "metadata": {},
   "outputs": [
    {
     "name": "stdout",
     "output_type": "stream",
     "text": [
      "<class 'pandas.core.frame.DataFrame'>\n",
      "RangeIndex: 549999 entries, 0 to 549998\n",
      "Data columns (total 11 columns):\n",
      " #   Column                Non-Null Count   Dtype         \n",
      "---  ------                --------------   -----         \n",
      " 0   ID                    549999 non-null  int64         \n",
      " 1   Date                  549999 non-null  datetime64[ns]\n",
      " 2   Year                  549999 non-null  int64         \n",
      " 3   Primary Type          549999 non-null  object        \n",
      " 4   Description           549999 non-null  object        \n",
      " 5   District              549999 non-null  int64         \n",
      " 6   Location Description  549999 non-null  object        \n",
      " 7   Arrest                549999 non-null  bool          \n",
      " 8   Domestic              549999 non-null  bool          \n",
      " 9   Latitude              549999 non-null  float64       \n",
      " 10  Longitude             549999 non-null  float64       \n",
      "dtypes: bool(2), datetime64[ns](1), float64(2), int64(3), object(3)\n",
      "memory usage: 38.8+ MB\n"
     ]
    }
   ],
   "source": [
    "final_df.info()"
   ]
  },
  {
   "cell_type": "code",
   "execution_count": 33,
   "metadata": {},
   "outputs": [],
   "source": [
    "# Saveing final DataFrame to CSV\n",
    "final_df.to_csv('Preprocessed_Crime_Data.csv', index=False)"
   ]
  }
 ],
 "metadata": {
  "kernelspec": {
   "display_name": "Python 3",
   "language": "python",
   "name": "python3"
  },
  "language_info": {
   "codemirror_mode": {
    "name": "ipython",
    "version": 3
   },
   "file_extension": ".py",
   "mimetype": "text/x-python",
   "name": "python",
   "nbconvert_exporter": "python",
   "pygments_lexer": "ipython3",
   "version": "3.12.5"
  }
 },
 "nbformat": 4,
 "nbformat_minor": 2
}
